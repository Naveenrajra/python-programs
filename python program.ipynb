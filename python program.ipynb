{
 "cells": [
  {
   "cell_type": "code",
   "execution_count": 49,
   "id": "21363ca2-dd1c-4fb0-a48e-ebff6f1c8988",
   "metadata": {},
   "outputs": [
    {
     "name": "stdin",
     "output_type": "stream",
     "text": [
      "enter the number:  7\n"
     ]
    },
    {
     "name": "stdout",
     "output_type": "stream",
     "text": [
      "2\n",
      "4\n",
      "6\n"
     ]
    }
   ],
   "source": [
    "n=int(input(\"enter the number: \"))\n",
    "for i in range(2,n+1,2):\n",
    "    print(i)"
   ]
  },
  {
   "cell_type": "code",
   "execution_count": 11,
   "id": "ae6d1a8e-64f2-4d38-8beb-4e3d1966ea10",
   "metadata": {},
   "outputs": [
    {
     "name": "stdin",
     "output_type": "stream",
     "text": [
      "Enter the number: 3\n"
     ]
    },
    {
     "name": "stdout",
     "output_type": "stream",
     "text": [
      "Sum of no is:  6\n"
     ]
    }
   ],
   "source": [
    "n=int(input(\"Enter the number:\"))\n",
    "sum=0\n",
    "for i in range(0,n+1):\n",
    "    sum=sum+i\n",
    "print(\"Sum of no is: \",sum)\n",
    "\n"
   ]
  },
  {
   "cell_type": "code",
   "execution_count": 34,
   "id": "46860769-f623-4ce4-80af-e9dbddca3444",
   "metadata": {},
   "outputs": [
    {
     "ename": "IndentationError",
     "evalue": "unexpected indent (12691101.py, line 2)",
     "output_type": "error",
     "traceback": [
      "\u001b[1;36m  Cell \u001b[1;32mIn[34], line 2\u001b[1;36m\u001b[0m\n\u001b[1;33m    if i==1:\u001b[0m\n\u001b[1;37m    ^\u001b[0m\n\u001b[1;31mIndentationError\u001b[0m\u001b[1;31m:\u001b[0m unexpected indent\n"
     ]
    }
   ],
   "source": [
    "n=int(input(\"Enter the number:\"))\n",
    "    if i==1:\n",
    "        print(\"Not a prime\")\n",
    "    elif i>1:\n",
    "        for i in range(2,n):\n",
    "            if (n%i)==0:\n",
    "            print(\"not a prime\")\n",
    "            break\n",
    "        else:\n",
    "            print(\"prime\")\n",
    "    else:\n",
    "        print(\"not a prime\")\n",
    "        \n"
   ]
  },
  {
   "cell_type": "code",
   "execution_count": null,
   "id": "529341bb-52d3-4bf2-88bc-af998a875080",
   "metadata": {},
   "outputs": [],
   "source": []
  },
  {
   "cell_type": "code",
   "execution_count": 58,
   "id": "14b7e092-ff81-4c48-8889-60f43c86468e",
   "metadata": {},
   "outputs": [
    {
     "name": "stdin",
     "output_type": "stream",
     "text": [
      "enter the number:  10\n"
     ]
    },
    {
     "name": "stdout",
     "output_type": "stream",
     "text": [
      "odd_nmbr: 5\n",
      "even_nmbr: 4\n"
     ]
    }
   ],
   "source": [
    "n=int(input(\"enter the number: \"))\n",
    "odd=[]\n",
    "even=[]\n",
    "for i in range(1,n):\n",
    "    if i%2==0:\n",
    "        even.append(i)\n",
    "    else:\n",
    "        odd.append(i)\n",
    "print(\"odd_nmbr:\",len(odd))\n",
    "print(\"even_nmbr:\",len(even))\n"
   ]
  },
  {
   "cell_type": "code",
   "execution_count": 60,
   "id": "191fa60f-2138-4c38-8a54-a11dc3099139",
   "metadata": {},
   "outputs": [],
   "source": [
    "n=[i for i in range(1,30) if(i%2==0)]"
   ]
  },
  {
   "cell_type": "code",
   "execution_count": 62,
   "id": "5e211d9f-3622-4995-a1df-aeaa5050f7f6",
   "metadata": {},
   "outputs": [
    {
     "data": {
      "text/plain": [
       "[2, 4, 6, 8, 10, 12, 14, 16, 18, 20, 22, 24, 26, 28]"
      ]
     },
     "execution_count": 62,
     "metadata": {},
     "output_type": "execute_result"
    }
   ],
   "source": [
    "n"
   ]
  },
  {
   "cell_type": "code",
   "execution_count": null,
   "id": "316556ff-0d27-4d9f-a4fa-b73bb06765cf",
   "metadata": {},
   "outputs": [],
   "source": []
  },
  {
   "cell_type": "code",
   "execution_count": 1,
   "id": "039b5358-ccea-4c57-bf83-ac21540c008f",
   "metadata": {},
   "outputs": [
    {
     "name": "stdin",
     "output_type": "stream",
     "text": [
      "enter the number:  5\n"
     ]
    },
    {
     "name": "stdout",
     "output_type": "stream",
     "text": [
      "225\n"
     ]
    }
   ],
   "source": [
    "n=int(input(\"enter the number: \"))\n",
    "sum=0\n",
    "for i in range(0,n+1):\n",
    "    sum=sum+(i**3)\n",
    "print(sum)"
   ]
  },
  {
   "cell_type": "code",
   "execution_count": 5,
   "id": "1141a811-f32c-4474-91d4-1d5bccda8384",
   "metadata": {},
   "outputs": [
    {
     "name": "stdin",
     "output_type": "stream",
     "text": [
      "enter the number:  10\n"
     ]
    },
    {
     "name": "stdout",
     "output_type": "stream",
     "text": [
      "1\n",
      "2\n",
      "3\n",
      "4\n",
      "5\n",
      "6\n",
      "7\n",
      "8\n",
      "9\n",
      "10\n"
     ]
    }
   ],
   "source": [
    "n=int(input(\"enter the number: \"))\n",
    "for i in range(1,n+1):\n",
    "    print(i)"
   ]
  },
  {
   "cell_type": "code",
   "execution_count": 11,
   "id": "f8bec016-8bdf-43a0-b17c-1ab416193011",
   "metadata": {},
   "outputs": [
    {
     "name": "stdin",
     "output_type": "stream",
     "text": [
      "enter the number:  3\n"
     ]
    },
    {
     "name": "stdout",
     "output_type": "stream",
     "text": [
      "6\n"
     ]
    }
   ],
   "source": [
    "n=int(input(\"enter the number: \"))\n",
    "sum=0\n",
    "for i in range(1,n+1):\n",
    "    sum=sum+i\n",
    "print(sum)"
   ]
  },
  {
   "cell_type": "code",
   "execution_count": 21,
   "id": "866da61f-a504-4c2a-a38e-69d2ff82f5b9",
   "metadata": {},
   "outputs": [
    {
     "name": "stdin",
     "output_type": "stream",
     "text": [
      "enter the number:  1\n",
      "enter the number:  7\n"
     ]
    },
    {
     "name": "stdout",
     "output_type": "stream",
     "text": [
      "9\n"
     ]
    }
   ],
   "source": [
    "a=int(input(\"enter the number: \"))\n",
    "n=int(input(\"enter the number: \"))\n",
    "sum=0\n",
    "for i in range(a,n):\n",
    "    if i%2!=0:\n",
    "        sum=sum+i\n",
    "print(sum)"
   ]
  },
  {
   "cell_type": "code",
   "execution_count": 11,
   "id": "3453b34c-5191-4a3a-990e-366a78079d78",
   "metadata": {},
   "outputs": [
    {
     "name": "stdin",
     "output_type": "stream",
     "text": [
      "enter the number:  1\n",
      "enter the number:  10\n"
     ]
    },
    {
     "name": "stdout",
     "output_type": "stream",
     "text": [
      "2 4 6 8 "
     ]
    }
   ],
   "source": [
    "a=int(input(\"enter the number: \"))\n",
    "n=int(input(\"enter the number: \"))\n",
    "for i in range(a,n):\n",
    "    if i%2==0:\n",
    "        print(i, end=' ')"
   ]
  },
  {
   "cell_type": "code",
   "execution_count": 45,
   "id": "e13bfe05-ca2b-4340-aab3-e70c47c42c92",
   "metadata": {},
   "outputs": [
    {
     "name": "stdin",
     "output_type": "stream",
     "text": [
      "enter the number:  89\n"
     ]
    },
    {
     "name": "stdout",
     "output_type": "stream",
     "text": [
      "2\n"
     ]
    }
   ],
   "source": [
    "n=int(input(\"enter the number: \"))\n",
    "count=0\n",
    "if n==0:\n",
    "    print(\"1\")\n",
    "while n>0:\n",
    "    n=n//10\n",
    "    count=count+1\n",
    "print(count)"
   ]
  },
  {
   "cell_type": "code",
   "execution_count": 31,
   "id": "0a19c1eb-018a-4493-9b59-6bc92809ef4d",
   "metadata": {},
   "outputs": [
    {
     "name": "stdin",
     "output_type": "stream",
     "text": [
      "enter the number:  4567\n"
     ]
    },
    {
     "name": "stdout",
     "output_type": "stream",
     "text": [
      "4\n"
     ]
    }
   ],
   "source": [
    "n=int(input(\"enter the number: \"))\n",
    "str1=str(n)\n",
    "print(len(str1))"
   ]
  },
  {
   "cell_type": "code",
   "execution_count": 5,
   "id": "70aa5c9a-928b-4223-9629-0ee3214e8efc",
   "metadata": {},
   "outputs": [
    {
     "name": "stdin",
     "output_type": "stream",
     "text": [
      "Enter a word: naveen\n"
     ]
    },
    {
     "name": "stdout",
     "output_type": "stream",
     "text": [
      "not\n"
     ]
    }
   ],
   "source": [
    "n=input(\"Enter a word:\")\n",
    "n1=0\n",
    "if(n1==n[::-1]):\n",
    "    print(\"palindrome\")\n",
    "else:\n",
    "    print(\"not\")"
   ]
  },
  {
   "cell_type": "code",
   "execution_count": 7,
   "id": "26b248ce-5c2b-4996-9447-d776fe77da16",
   "metadata": {},
   "outputs": [
    {
     "name": "stdin",
     "output_type": "stream",
     "text": [
      "enter the number:  2332\n"
     ]
    },
    {
     "name": "stdout",
     "output_type": "stream",
     "text": [
      "palindrome\n"
     ]
    }
   ],
   "source": [
    "n=int(input(\"enter the number: \"))\n",
    "temp=n\n",
    "r=0\n",
    "while(n>0):\n",
    "    d=n%10\n",
    "    r=r*10+d\n",
    "    n=n//10\n",
    "\n",
    "if temp==r:\n",
    "    print(\"palindrome\")\n",
    "else:\n",
    "    print(\"not palindrome\")"
   ]
  },
  {
   "cell_type": "code",
   "execution_count": null,
   "id": "6e50da87-a852-466a-be45-5dd1fa16f129",
   "metadata": {},
   "outputs": [],
   "source": []
  },
  {
   "cell_type": "code",
   "execution_count": 15,
   "id": "ebc191cb-3c63-4d9d-a4dd-877bcfd803d1",
   "metadata": {},
   "outputs": [
    {
     "name": "stdin",
     "output_type": "stream",
     "text": [
      "enter the number:  1634\n"
     ]
    },
    {
     "name": "stdout",
     "output_type": "stream",
     "text": [
      "Armstrong\n"
     ]
    }
   ],
   "source": [
    "n=int(input(\"enter the number: \"))\n",
    "b=len(str(n))\n",
    "temp=n\n",
    "sum=0\n",
    "while(temp>0):\n",
    "    d=temp%10\n",
    "    sum=sum+d**b\n",
    "    temp=temp//10\n",
    "if n==sum:\n",
    "    print(\"Armstrong\")\n",
    "else:\n",
    "    print(\"not Armstrong\")"
   ]
  },
  {
   "cell_type": "code",
   "execution_count": 35,
   "id": "803b9ca5-994b-44cb-b351-95f3f5fe5d39",
   "metadata": {},
   "outputs": [
    {
     "name": "stdout",
     "output_type": "stream",
     "text": [
      "15\n",
      "30\n",
      "45\n",
      "60\n",
      "75\n",
      "90\n",
      "count= 6\n"
     ]
    }
   ],
   "source": [
    "count=0\n",
    "for i in range(1,100):\n",
    "    if i%3==0 and i%5==0:\n",
    "        count=count+1\n",
    "        print(i)\n",
    "print(\"count=\",count)\n"
   ]
  },
  {
   "cell_type": "code",
   "execution_count": 51,
   "id": "29acd85a-c3f2-40b0-a882-77ca47cabad8",
   "metadata": {},
   "outputs": [
    {
     "name": "stdout",
     "output_type": "stream",
     "text": [
      "1 2 4 5 7 8 10 11 13 14 16 17 19 20 22 23 25 26 28 29 31 32 34 35 37 38 40 41 43 44 46 47 49 50 52 53 55 56 58 59 61 62 64 65 67 68 70 71 73 74 76 77 79 80 82 83 85 86 88 89 91 92 94 95 97 98 100 \n",
      "count= 67\n"
     ]
    }
   ],
   "source": [
    "count=0\n",
    "for i in range(1,101):\n",
    "    if i%3==0:\n",
    "        continue\n",
    "    else:\n",
    "        print(i,end=' ')\n",
    "        count+=1\n",
    "print(\"\\ncount=\",count)"
   ]
  },
  {
   "cell_type": "code",
   "execution_count": 77,
   "id": "ec365496-85aa-49d6-8187-3c3a88901ec9",
   "metadata": {},
   "outputs": [
    {
     "name": "stdout",
     "output_type": "stream",
     "text": [
      "3 5 6 9 10 12 15 18 20 21 24 25 27 30 33 35 36 39 40 42 45 48 50 51 54 55 57 60 63 65 66 69 70 72 75 78 80 81 84 85 87 90 93 95 96 99 100 count= 47\n"
     ]
    }
   ],
   "source": [
    "count=0\n",
    "for i in range(1,101):\n",
    "    if not(i%3==0 or i%5==0):\n",
    "        continue\n",
    "    else:\n",
    "        print(i,end=' ')\n",
    "        count+=1\n",
    "print(\"count=\",count)\n"
   ]
  },
  {
   "cell_type": "code",
   "execution_count": 129,
   "id": "9ccff0f5-d7d2-4599-b58b-d9e230926305",
   "metadata": {},
   "outputs": [
    {
     "name": "stdout",
     "output_type": "stream",
     "text": [
      "[1, 4, 9, 16, 25, 36, 49, 64, 81, 100, 121, 144, 169, 196, 225, 256, 289, 324, 361, 400, 441, 484]\n",
      "22\n"
     ]
    }
   ],
   "source": [
    "count=0\n",
    "list=[]\n",
    "for i in range(1,501):\n",
    "    a=i**2\n",
    "    if a<500:\n",
    "        list.append(a)\n",
    "        count+=1\n",
    "print(list)\n",
    "print(count)\n"
   ]
  },
  {
   "cell_type": "code",
   "execution_count": null,
   "id": "2ff4aa84-8927-4404-a427-29722b2730ba",
   "metadata": {},
   "outputs": [],
   "source": []
  },
  {
   "cell_type": "code",
   "execution_count": 24,
   "id": "ee30a8d9-7a18-4530-9a59-b949228f2dc8",
   "metadata": {},
   "outputs": [
    {
     "name": "stdout",
     "output_type": "stream",
     "text": [
      "neevan\n"
     ]
    }
   ],
   "source": [
    "a=\"naveen\"\n",
    "rev=\"\"\n",
    "for i in a:\n",
    "    rev=i+rev\n",
    "print(rev)\n"
   ]
  },
  {
   "cell_type": "code",
   "execution_count": null,
   "id": "30a74996-2f2f-48c7-8090-422370405a93",
   "metadata": {},
   "outputs": [],
   "source": []
  },
  {
   "cell_type": "code",
   "execution_count": 62,
   "id": "1f0ab38e-0166-4d87-a009-1f88d1690b74",
   "metadata": {},
   "outputs": [
    {
     "name": "stdout",
     "output_type": "stream",
     "text": [
      "odd\n"
     ]
    }
   ],
   "source": [
    "def even_nmbr(a):\n",
    "    if a%2==0:\n",
    "        print(\"even\")\n",
    "    else:\n",
    "        print(\"odd\")\n",
    "\n",
    "even_nmbr(21)\n",
    "    "
   ]
  },
  {
   "cell_type": "code",
   "execution_count": 56,
   "id": "02be99d0-a952-4508-b476-fc3b0043cd15",
   "metadata": {},
   "outputs": [
    {
     "ename": "NameError",
     "evalue": "name 'even' is not defined",
     "output_type": "error",
     "traceback": [
      "\u001b[1;31m---------------------------------------------------------------------------\u001b[0m",
      "\u001b[1;31mNameError\u001b[0m                                 Traceback (most recent call last)",
      "Cell \u001b[1;32mIn[56], line 1\u001b[0m\n\u001b[1;32m----> 1\u001b[0m even_nmbr(\u001b[38;5;241m16\u001b[39m)\n",
      "Cell \u001b[1;32mIn[50], line 3\u001b[0m, in \u001b[0;36meven_nmbr\u001b[1;34m(a)\u001b[0m\n\u001b[0;32m      1\u001b[0m \u001b[38;5;28;01mdef\u001b[39;00m \u001b[38;5;21meven_nmbr\u001b[39m(a):\n\u001b[0;32m      2\u001b[0m     \u001b[38;5;28;01mif\u001b[39;00m a\u001b[38;5;241m%\u001b[39m\u001b[38;5;241m2\u001b[39m\u001b[38;5;241m==\u001b[39m\u001b[38;5;241m0\u001b[39m:\n\u001b[1;32m----> 3\u001b[0m         \u001b[38;5;28mprint\u001b[39m(even)\n\u001b[0;32m      4\u001b[0m     \u001b[38;5;28;01melse\u001b[39;00m:\n\u001b[0;32m      5\u001b[0m         \u001b[38;5;28mprint\u001b[39m(odd)\n",
      "\u001b[1;31mNameError\u001b[0m: name 'even' is not defined"
     ]
    }
   ],
   "source": []
  },
  {
   "cell_type": "code",
   "execution_count": 76,
   "id": "68f42247-ed9e-43a9-b537-5546b2f04217",
   "metadata": {},
   "outputs": [
    {
     "name": "stdout",
     "output_type": "stream",
     "text": [
      "even\n"
     ]
    }
   ],
   "source": [
    "def even_nmbr(a):\n",
    "    return a%2==0\n",
    "\n",
    "even_nmbr(20)\n",
    "print(\"even\")"
   ]
  },
  {
   "cell_type": "code",
   "execution_count": null,
   "id": "50a5643e-9c0c-4845-a4d5-d2f7f7eb37a3",
   "metadata": {},
   "outputs": [],
   "source": []
  },
  {
   "cell_type": "code",
   "execution_count": 22,
   "id": "f6cf262d-869a-439b-b41f-25ba7708e80b",
   "metadata": {},
   "outputs": [
    {
     "name": "stdout",
     "output_type": "stream",
     "text": [
      "Good\n"
     ]
    }
   ],
   "source": [
    "def avg_nmbr(a):\n",
    "    if a>100:\n",
    "        print(\"Number is less than 100\")\n",
    "    if a>=80 and a<=100:\n",
    "        print(\"Good\")\n",
    "    elif a>=50 and a<80:\n",
    "        print(\"Average\")\n",
    "    else:\n",
    "        print(\"bad\")\n",
    "avg_nmbr(80)"
   ]
  },
  {
   "cell_type": "code",
   "execution_count": 14,
   "id": "27407465-0198-4643-b0a9-99ed083e5db8",
   "metadata": {},
   "outputs": [
    {
     "name": "stdout",
     "output_type": "stream",
     "text": [
      "bad\n"
     ]
    },
    {
     "data": {
      "text/plain": [
       "43"
      ]
     },
     "execution_count": 14,
     "metadata": {},
     "output_type": "execute_result"
    }
   ],
   "source": [
    "avg_nmbr(43)"
   ]
  },
  {
   "cell_type": "code",
   "execution_count": 20,
   "id": "6a824da3-4409-4252-91d0-f94e4d6a90d1",
   "metadata": {},
   "outputs": [
    {
     "name": "stdout",
     "output_type": "stream",
     "text": [
      "Number is less than 100\n",
      "bad\n"
     ]
    },
    {
     "data": {
      "text/plain": [
       "310"
      ]
     },
     "execution_count": 20,
     "metadata": {},
     "output_type": "execute_result"
    }
   ],
   "source": [
    "avg_nmbr(310)"
   ]
  },
  {
   "cell_type": "code",
   "execution_count": 15,
   "id": "163dfd77-6431-4b7e-9fb8-9cb5462cf96d",
   "metadata": {},
   "outputs": [
    {
     "name": "stdout",
     "output_type": "stream",
     "text": [
      "Good\n",
      "Average\n",
      "bad\n",
      "Good\n",
      "bad\n"
     ]
    }
   ],
   "source": [
    "def avg_nmbr(a):\n",
    "    for a in numbers:\n",
    "        if a>100:\n",
    "            print(\"Number is less than 100\")\n",
    "        elif a>=80 and a<=100:\n",
    "            print(\"Good\")\n",
    "        elif a>=50 and a<80:\n",
    "            print(\"Average\")\n",
    "        else:\n",
    "            print(\"bad\")\n",
    "numbers=[86,55,32,95,12]\n",
    "avg_nmbr(numbers)\n"
   ]
  },
  {
   "cell_type": "code",
   "execution_count": 3,
   "id": "c20795c2-07b8-415a-a4e8-f03199ce0cf0",
   "metadata": {},
   "outputs": [
    {
     "data": {
      "text/plain": [
       "'Prime'"
      ]
     },
     "execution_count": 3,
     "metadata": {},
     "output_type": "execute_result"
    }
   ],
   "source": [
    "def prime_no(a):\n",
    "    if a=1:\n",
    "        return \"Not prime\"\n",
    "    for i in range(2,a):\n",
    "        if a%i==0:\n",
    "            return \"Not prime\"\n",
    "    return \"Prime\"\n",
    "prime_no(307)\n",
    "            "
   ]
  },
  {
   "cell_type": "code",
   "execution_count": 11,
   "id": "0793ab52-b865-4b33-9fdf-7a9e3dae9321",
   "metadata": {},
   "outputs": [
    {
     "data": {
      "text/plain": [
       "'Not prime'"
      ]
     },
     "execution_count": 11,
     "metadata": {},
     "output_type": "execute_result"
    }
   ],
   "source": [
    "prime_no(310)"
   ]
  },
  {
   "cell_type": "code",
   "execution_count": 5,
   "id": "d578e64f-cbba-4e14-b8f3-d424ea4b841c",
   "metadata": {},
   "outputs": [
    {
     "data": {
      "text/plain": [
       "'Not prime'"
      ]
     },
     "execution_count": 5,
     "metadata": {},
     "output_type": "execute_result"
    }
   ],
   "source": [
    "prime_no(126)"
   ]
  },
  {
   "cell_type": "code",
   "execution_count": 11,
   "id": "0f39684a-9537-48dd-a853-bb18cb91105b",
   "metadata": {},
   "outputs": [
    {
     "data": {
      "text/plain": [
       "'Prime'"
      ]
     },
     "execution_count": 11,
     "metadata": {},
     "output_type": "execute_result"
    }
   ],
   "source": [
    "prime_no(2)"
   ]
  },
  {
   "cell_type": "code",
   "execution_count": 29,
   "id": "3f69e564-240f-454f-b63b-0b3ef07b0db0",
   "metadata": {},
   "outputs": [
    {
     "data": {
      "text/plain": [
       "[1, 3, 5, 7, 9, 11, 13, 15, 17, 19]"
      ]
     },
     "execution_count": 29,
     "metadata": {},
     "output_type": "execute_result"
    }
   ],
   "source": [
    "list(filter(lambda x:x%2!=0,range(1,20)))"
   ]
  },
  {
   "cell_type": "code",
   "execution_count": 38,
   "id": "fa554486-3a47-4dbb-9871-3e8896a3797b",
   "metadata": {
    "scrolled": true
   },
   "outputs": [
    {
     "ename": "IndentationError",
     "evalue": "unindent does not match any outer indentation level (<string>, line 5)",
     "output_type": "error",
     "traceback": [
      "\u001b[1;36m  File \u001b[1;32m<string>:5\u001b[1;36m\u001b[0m\n\u001b[1;33m    ''\u001b[0m\n\u001b[1;37m       ^\u001b[0m\n\u001b[1;31mIndentationError\u001b[0m\u001b[1;31m:\u001b[0m unindent does not match any outer indentation level\n"
     ]
    }
   ],
   "source": [
    "for i in range(1,5):\n",
    "    for i in range(i,5):\n",
    "        print(i, end=\"\")\n",
    "    print()\n",
    "   '' "
   ]
  },
  {
   "cell_type": "code",
   "execution_count": 41,
   "id": "78e6a558-e000-4bbe-aa5a-15600dde8fa1",
   "metadata": {},
   "outputs": [
    {
     "ename": "SyntaxError",
     "evalue": "invalid syntax (2008998625.py, line 1)",
     "output_type": "error",
     "traceback": [
      "\u001b[1;36m  Cell \u001b[1;32mIn[41], line 1\u001b[1;36m\u001b[0m\n\u001b[1;33m    +++\u001b[0m\n\u001b[1;37m       ^\u001b[0m\n\u001b[1;31mSyntaxError\u001b[0m\u001b[1;31m:\u001b[0m invalid syntax\n"
     ]
    }
   ],
   "source": [
    "+++"
   ]
  },
  {
   "cell_type": "code",
   "execution_count": null,
   "id": "ca25a35c-d095-4823-8029-fd5472613697",
   "metadata": {},
   "outputs": [],
   "source": []
  },
  {
   "cell_type": "code",
   "execution_count": 66,
   "id": "9ad67a97-7810-4804-9ad2-58c1ef43a2c4",
   "metadata": {},
   "outputs": [
    {
     "name": "stdout",
     "output_type": "stream",
     "text": [
      "1234\n",
      "234\n",
      "34\n",
      "4\n"
     ]
    }
   ],
   "source": [
    "for i in range(1,5):\n",
    "    for i in range(i,5):\n",
    "        print(i, end=\"\")\n",
    "    print()"
   ]
  },
  {
   "cell_type": "code",
   "execution_count": 64,
   "id": "89fff55b-b9a2-4cdd-8903-72e3fa0284be",
   "metadata": {},
   "outputs": [
    {
     "name": "stdout",
     "output_type": "stream",
     "text": [
      "4321\n",
      "432\n",
      "43\n",
      "4\n",
      "\n"
     ]
    }
   ],
   "source": [
    "for i in range(0,5):\n",
    "    for i in range(4,i,-1):\n",
    "        print(i, end=\"\")\n",
    "    print()"
   ]
  },
  {
   "cell_type": "code",
   "execution_count": 3,
   "id": "9eb392fb-d9c3-4d0e-bc65-7445e5e5e8f2",
   "metadata": {},
   "outputs": [
    {
     "name": "stdout",
     "output_type": "stream",
     "text": [
      "9\n"
     ]
    }
   ],
   "source": [
    "a=[2,3,4,9,8,1]\n",
    "print(max(a))"
   ]
  },
  {
   "cell_type": "code",
   "execution_count": 5,
   "id": "d1607a21-620e-41e2-b37e-75f0ea0fb40f",
   "metadata": {},
   "outputs": [
    {
     "name": "stdout",
     "output_type": "stream",
     "text": [
      "1\n"
     ]
    }
   ],
   "source": [
    "print(min(a))"
   ]
  },
  {
   "cell_type": "code",
   "execution_count": 18,
   "id": "12a3be5e-0ded-4c96-a467-a2fc4d38828f",
   "metadata": {},
   "outputs": [
    {
     "name": "stdout",
     "output_type": "stream",
     "text": [
      "8\n"
     ]
    }
   ],
   "source": [
    "a=[2,3,4,9,8,1]\n",
    "a.sort()\n",
    "print(a[-2])\n",
    "\n"
   ]
  },
  {
   "cell_type": "code",
   "execution_count": 32,
   "id": "80e13dae-3428-4e5e-a282-a54260a3b876",
   "metadata": {},
   "outputs": [
    {
     "name": "stdout",
     "output_type": "stream",
     "text": [
      "[2, 4, 8]\n",
      "[3, 9, 1]\n"
     ]
    }
   ],
   "source": [
    "a=[2,3,4,9,8,1]\n",
    "even=[]\n",
    "odd=[]\n",
    "for i in a :\n",
    "    if i%2==0:\n",
    "        even.append(i)\n",
    "    else:\n",
    "        odd.append(i)\n",
    "print(even)\n",
    "print(odd)"
   ]
  },
  {
   "cell_type": "code",
   "execution_count": 36,
   "id": "f870e4c1-b91e-4d1f-bfb6-b86844010de6",
   "metadata": {},
   "outputs": [
    {
     "name": "stdout",
     "output_type": "stream",
     "text": [
      "15\n"
     ]
    }
   ],
   "source": [
    "a={'a':1,'b':3,'c':5,'d':6}\n",
    "print(sum(a.values()))"
   ]
  },
  {
   "cell_type": "code",
   "execution_count": 40,
   "id": "f86c8800-c715-46f1-aae8-9a55fd9c401d",
   "metadata": {},
   "outputs": [
    {
     "name": "stdout",
     "output_type": "stream",
     "text": [
      "20.94\n"
     ]
    }
   ],
   "source": [
    "import math\n",
    "def volume(r,h):\n",
    "    v=(1/3)*math.pi*r**2*h\n",
    "    return v\n",
    "print(round(volume(2,5),2))"
   ]
  },
  {
   "cell_type": "code",
   "execution_count": 58,
   "id": "e36a7cfe-fdd0-44dc-9b96-8d5fbf65977d",
   "metadata": {},
   "outputs": [
    {
     "name": "stdout",
     "output_type": "stream",
     "text": [
      "* * * \n",
      "* * * \n",
      "* * * \n"
     ]
    }
   ],
   "source": [
    "for i in range(1,4):\n",
    "    print(\"* \"*3,end='')\n",
    "    print()"
   ]
  },
  {
   "cell_type": "code",
   "execution_count": 60,
   "id": "6ee57bef-00eb-4875-9292-b2c1734f5a8e",
   "metadata": {},
   "outputs": [
    {
     "name": "stdout",
     "output_type": "stream",
     "text": [
      "4444\n",
      "4444\n",
      "4444\n",
      "4444\n"
     ]
    }
   ],
   "source": [
    "for i in range(1,5):\n",
    "    print(\"4\"*4,end='')\n",
    "    print()"
   ]
  },
  {
   "cell_type": "code",
   "execution_count": 74,
   "id": "a0a0747a-1460-4574-858e-bc61cc7ca067",
   "metadata": {},
   "outputs": [
    {
     "name": "stdout",
     "output_type": "stream",
     "text": [
      "* \n",
      "* * \n",
      "* * * \n",
      "* * * * \n"
     ]
    }
   ],
   "source": [
    "for i in range(1,5):\n",
    "    for i in range(i):\n",
    "        print(\"*\",end=\" \")\n",
    "    print()"
   ]
  },
  {
   "cell_type": "code",
   "execution_count": 1,
   "id": "6dedc38a-f1fe-401e-983d-dfee51131063",
   "metadata": {},
   "outputs": [
    {
     "name": "stdout",
     "output_type": "stream",
     "text": [
      "1 \n",
      "1 2 \n",
      "1 2 3 \n",
      "1 2 3 4 \n"
     ]
    }
   ],
   "source": [
    "for i in range(1,5):\n",
    "    for i in range(i):\n",
    "        print(i+1,end=\" \")\n",
    "    print()"
   ]
  },
  {
   "cell_type": "code",
   "execution_count": 7,
   "id": "b4d9da5e-7444-45bc-8180-943cf889dfd4",
   "metadata": {},
   "outputs": [
    {
     "name": "stdout",
     "output_type": "stream",
     "text": [
      "1 \n",
      "2 2 \n",
      "3 3 3 \n",
      "4 4 4 4 \n"
     ]
    }
   ],
   "source": [
    "for num in range(1,5):\n",
    "    for i in range(num):\n",
    "        print(num,end=\" \")\n",
    "    print()"
   ]
  },
  {
   "cell_type": "code",
   "execution_count": 9,
   "id": "32037aae-e54a-4b0a-a1a8-b66832292c0b",
   "metadata": {},
   "outputs": [
    {
     "name": "stdin",
     "output_type": "stream",
     "text": [
      "Enter: 2022\n",
      "Enter: 10\n"
     ]
    },
    {
     "name": "stdout",
     "output_type": "stream",
     "text": [
      "    October 2022\n",
      "Mo Tu We Th Fr Sa Su\n",
      "                1  2\n",
      " 3  4  5  6  7  8  9\n",
      "10 11 12 13 14 15 16\n",
      "17 18 19 20 21 22 23\n",
      "24 25 26 27 28 29 30\n",
      "31\n",
      "\n"
     ]
    }
   ],
   "source": [
    "import calendar\n",
    "y=int(input(\"Enter:\"))\n",
    "m=int(input(\"Enter:\"))\n",
    "print(calendar.month(y,m))"
   ]
  },
  {
   "cell_type": "code",
   "execution_count": 21,
   "id": "e1cd349d-80e6-4677-a775-26df93745e95",
   "metadata": {},
   "outputs": [
    {
     "name": "stdin",
     "output_type": "stream",
     "text": [
      "enter string: this is naveem\n"
     ]
    },
    {
     "ename": "AttributeError",
     "evalue": "'str' object has no attribute 'sort'",
     "output_type": "error",
     "traceback": [
      "\u001b[1;31m---------------------------------------------------------------------------\u001b[0m",
      "\u001b[1;31mAttributeError\u001b[0m                            Traceback (most recent call last)",
      "Cell \u001b[1;32mIn[21], line 4\u001b[0m\n\u001b[0;32m      2\u001b[0m n\u001b[38;5;241m=\u001b[39ma\u001b[38;5;241m.\u001b[39mlower()\n\u001b[0;32m      3\u001b[0m n\u001b[38;5;241m.\u001b[39msplit()\n\u001b[1;32m----> 4\u001b[0m c\u001b[38;5;241m=\u001b[39mn\u001b[38;5;241m.\u001b[39msort()\n\u001b[0;32m      5\u001b[0m \u001b[38;5;28mprint\u001b[39m(c)\n",
      "\u001b[1;31mAttributeError\u001b[0m: 'str' object has no attribute 'sort'"
     ]
    }
   ],
   "source": [
    "a=input(\"enter string:\")\n",
    "n=a.lower()\n",
    "n.split()\n",
    "c=n.sort()\n",
    "print(c)"
   ]
  },
  {
   "cell_type": "code",
   "execution_count": 32,
   "id": "ff116177-e575-4f78-892a-ab198d64888d",
   "metadata": {},
   "outputs": [
    {
     "name": "stdout",
     "output_type": "stream",
     "text": [
      "3.0\n"
     ]
    }
   ],
   "source": [
    "a=[2,4,3,5,2]\n",
    "a.sort()\n",
    "n=len(a)\n",
    "if n%2!=0:\n",
    "    m=(n+1)/2\n",
    "else:\n",
    "    m=n/2\n",
    "\n",
    "print(m)\n"
   ]
  },
  {
   "cell_type": "code",
   "execution_count": 95,
   "id": "aa3d11f8-0007-4fba-b840-d13ea97dd1d5",
   "metadata": {},
   "outputs": [
    {
     "name": "stdout",
     "output_type": "stream",
     "text": [
      "5\n"
     ]
    }
   ],
   "source": [
    "vowel=\"aeiou,AEIOU\"\n",
    "count=0\n",
    "string=\"balachandErA\"\n",
    "for char in string:\n",
    "    if char in vowel:\n",
    "        count=count+1\n",
    "print(count)"
   ]
  },
  {
   "cell_type": "code",
   "execution_count": 36,
   "id": "ae7d73fb-d790-4dfc-b338-cc607b833dcf",
   "metadata": {},
   "outputs": [
    {
     "name": "stdout",
     "output_type": "stream",
     "text": [
      "[2, 3, 2]\n"
     ]
    }
   ],
   "source": [
    "def int_lst(b):\n",
    "    a=[]\n",
    "    for item in b:\n",
    "        if type(item)==int:\n",
    "            a.append(item)\n",
    "b=[\"naveen\",\"balachander\",\"varun\",2,3,2]\n",
    "print(a)\n"
   ]
  },
  {
   "cell_type": "code",
   "execution_count": null,
   "id": "bf61d772-6ce8-407b-8d0e-0f2a30f58132",
   "metadata": {},
   "outputs": [],
   "source": []
  },
  {
   "cell_type": "code",
   "execution_count": 58,
   "id": "5ce1c7fc-7d88-42c1-9bbb-3ca878383564",
   "metadata": {},
   "outputs": [
    {
     "name": "stdout",
     "output_type": "stream",
     "text": [
      "[2, 3, 4, 5, 1]\n"
     ]
    }
   ],
   "source": [
    "def remove_nmbr(lst):\n",
    "    lst1=[]\n",
    "    for item in lst:\n",
    "        if item not in lst1:\n",
    "            lst1.append(item)\n",
    "    return lst1\n",
    "\n",
    "lst=[2,3,4,3,5,1,3]\n",
    "print(remove_nmbr(lst))\n",
    "\n",
    "        \n",
    "    "
   ]
  },
  {
   "cell_type": "code",
   "execution_count": 62,
   "id": "ddc8b5b3-42de-4f4c-bca4-a9026f15f4ae",
   "metadata": {},
   "outputs": [
    {
     "name": "stdout",
     "output_type": "stream",
     "text": [
      "[2, 3, 7]\n"
     ]
    }
   ],
   "source": [
    "def arg_nmbr(a):\n",
    "    a.append(7)\n",
    "    a.remove(1)\n",
    "    return a\n",
    "\n",
    "a=[1,2,3]\n",
    "print(arg_nmbr(a))\n",
    "    \n",
    "    "
   ]
  },
  {
   "cell_type": "code",
   "execution_count": null,
   "id": "63fe3220-f492-469f-b6dc-a496b9de0525",
   "metadata": {},
   "outputs": [],
   "source": []
  },
  {
   "cell_type": "code",
   "execution_count": 72,
   "id": "f370adba-c297-47a3-aab3-623afa91e3ca",
   "metadata": {},
   "outputs": [
    {
     "name": "stdout",
     "output_type": "stream",
     "text": [
      "['are', 'animals']\n"
     ]
    }
   ],
   "source": [
    "str=\"there are many animals\"\n",
    "r=[]\n",
    "a=str.split()\n",
    "for word in a:\n",
    "    if word.lower()[0]=='a' or word.lower()[0]=='e':\n",
    "        r.append(word)\n",
    "print(r)"
   ]
  },
  {
   "cell_type": "code",
   "execution_count": 74,
   "id": "da90ed50-556c-493d-843e-d62d7258b38d",
   "metadata": {},
   "outputs": [
    {
     "name": "stdout",
     "output_type": "stream",
     "text": [
      "['there', 'many', 'animals']\n"
     ]
    }
   ],
   "source": [
    "str=\"there are many animals\"\n",
    "r=[]\n",
    "a=str.split()\n",
    "for word in a:\n",
    "    if len(word)>=4:\n",
    "        r.append(word)\n",
    "print(r)"
   ]
  },
  {
   "cell_type": "code",
   "execution_count": 21,
   "id": "312ac706-1b5e-4aec-9a3c-308bbb82e023",
   "metadata": {},
   "outputs": [
    {
     "name": "stdout",
     "output_type": "stream",
     "text": [
      "['a', 'elegant', 'and', 'adament']\n"
     ]
    }
   ],
   "source": [
    "import re\n",
    "\n",
    "a=\"a bird is elegant and adament\"\n",
    "pattern=r'\\ba[a-z]*\\b|\\be[a-z]+\\b'\n",
    "x = re.findall(pattern, a)\n",
    "print(x)"
   ]
  },
  {
   "cell_type": "code",
   "execution_count": null,
   "id": "e124d278-83d5-425c-9691-5bd7f1ce7736",
   "metadata": {},
   "outputs": [],
   "source": []
  },
  {
   "cell_type": "code",
   "execution_count": 79,
   "id": "c06050c7-fc38-453e-a9a1-b87538c3696e",
   "metadata": {},
   "outputs": [
    {
     "name": "stdout",
     "output_type": "stream",
     "text": [
      "example.com\n",
      "hr@fliprobo.com\n",
      "github.com\n",
      "Hello Data Science World\n",
      "Data Scientist\n"
     ]
    }
   ],
   "source": [
    "import re\n",
    "Sample = [\"example(.com)\", \"hr@fliprobo(.com)\", \"github(.com)\", \"Hello (Data Science World)\", \"Data (Scientist)\"]\n",
    "\n",
    "for char in Sample:\n",
    "    pattern='[()]'\n",
    "    x = re.sub(pattern,'', char)\n",
    "    print(x)\n"
   ]
  },
  {
   "cell_type": "code",
   "execution_count": null,
   "id": "b476d2e0-3f01-4404-b32e-e0c85eddb69a",
   "metadata": {},
   "outputs": [],
   "source": []
  },
  {
   "cell_type": "code",
   "execution_count": 91,
   "id": "c7c84b5c-c8cc-4154-8ce1-2c4b82b8442b",
   "metadata": {},
   "outputs": [
    {
     "name": "stdout",
     "output_type": "stream",
     "text": [
      "['Importance', 'Of', 'Regular', 'Expressions', 'In', 'Python']\n"
     ]
    }
   ],
   "source": [
    "import re\n",
    "a=\"ImportanceOfRegularExpressionsInPython\"\n",
    "pattern=r'[A-Z][a-z]+'\n",
    "x = re.findall(pattern,a)\n",
    "print(x)\n",
    "\n",
    "\n"
   ]
  },
  {
   "cell_type": "code",
   "execution_count": 38,
   "id": "1bc4dab3-a37c-4385-a556-de825343fc93",
   "metadata": {},
   "outputs": [
    {
     "name": "stdout",
     "output_type": "stream",
     "text": [
      "RegularExpression 1 IsAnImportantTopic 3 InPython\n"
     ]
    }
   ],
   "source": [
    "import re\n",
    "target=\"RegularExpression1IsAnImportantTopic3InPython\"\n",
    "pattern=r'(\\d)'\n",
    "x=re.sub(pattern,r' \\1 ',target)\n",
    "print(x)"
   ]
  },
  {
   "cell_type": "code",
   "execution_count": null,
   "id": "8decaffc-f59b-48d2-b38d-0dc66cb547fa",
   "metadata": {},
   "outputs": [],
   "source": []
  },
  {
   "cell_type": "code",
   "execution_count": 81,
   "id": "c8f74450-1eab-49c1-a665-2335b27e7c85",
   "metadata": {},
   "outputs": [
    {
     "name": "stdout",
     "output_type": "stream",
     "text": [
      "123.83.701.8900\n"
     ]
    }
   ],
   "source": [
    "import re\n",
    "target='123.0083.00701.008900'\n",
    "pattern=r'[.][0]+'\n",
    "x=re.sub(pattern,'.',target)\n",
    "print(x)"
   ]
  },
  {
   "cell_type": "code",
   "execution_count": 146,
   "id": "3054e450-b062-4713-a3aa-8e87b3fa0e3c",
   "metadata": {},
   "outputs": [
    {
     "name": "stdout",
     "output_type": "stream",
     "text": [
      "Regular Expression Is An Important Topic In Python\n"
     ]
    }
   ],
   "source": [
    "import re\n",
    "target=\"RegularExpressionIsAnImportantTopicInPython\"\n",
    "pattern=r'([a-z]\n",
    "\n",
    "\n",
    "\n",
    "\n",
    "\n",
    "\n",
    "\n",
    "\n",
    "\n",
    "\n",
    "\n",
    "\n",
    "\n",
    "\n",
    "\n",
    "\n",
    "\n",
    "\n",
    "\n",
    "\n",
    "\n",
    "x=re.sub(pattern,r'\\1 \\2',target)\n",
    "print(x)\n"
   ]
  },
  {
   "cell_type": "code",
   "execution_count": null,
   "id": "cb041f6b-974f-47fb-a871-b9a16c1ae5fb",
   "metadata": {},
   "outputs": [],
   "source": []
  },
  {
   "cell_type": "code",
   "execution_count": null,
   "id": "761e0d31-6bf4-431a-bab8-b4e587edc563",
   "metadata": {},
   "outputs": [],
   "source": []
  },
  {
   "cell_type": "code",
   "execution_count": 1,
   "id": "240322f9-ebaf-49dd-bbfa-4812b6f3e41c",
   "metadata": {},
   "outputs": [
    {
     "name": "stdout",
     "output_type": "stream",
     "text": [
      "950\n"
     ]
    }
   ],
   "source": [
    "import re\n",
    "Sample='My marks in each semester are: 947, 896, 926, 524, 734, 950, 642'\n",
    "pattern=r'\\d+'\n",
    "x=re.findall(pattern,Sample)\n",
    "a=max(map(int,x))\n",
    "print(a)"
   ]
  },
  {
   "cell_type": "code",
   "execution_count": 16,
   "id": "a95869ba-b339-4178-8be5-8eb4e9c359c8",
   "metadata": {
    "scrolled": true
   },
   "outputs": [
    {
     "ename": "TypeError",
     "evalue": "unsupported operand type(s) for &: 'str' and 'RegexFlag'",
     "output_type": "error",
     "traceback": [
      "\u001b[1;31m---------------------------------------------------------------------------\u001b[0m",
      "\u001b[1;31mTypeError\u001b[0m                                 Traceback (most recent call last)",
      "Cell \u001b[1;32mIn[16], line 4\u001b[0m\n\u001b[0;32m      2\u001b[0m Sample\u001b[38;5;241m=\u001b[39m \u001b[38;5;124m\"\u001b[39m\u001b[38;5;124mHello hello world world hello\u001b[39m\u001b[38;5;124m\"\u001b[39m\n\u001b[0;32m      3\u001b[0m pattern\u001b[38;5;241m=\u001b[39m\u001b[38;5;124mr\u001b[39m\u001b[38;5;124m'\u001b[39m\u001b[38;5;124m\\\u001b[39m\u001b[38;5;124mb(\u001b[39m\u001b[38;5;124m\\\u001b[39m\u001b[38;5;124mw+)\u001b[39m\u001b[38;5;124m\\\u001b[39m\u001b[38;5;124ms(\u001b[39m\u001b[38;5;124m\\\u001b[39m\u001b[38;5;124m1)\u001b[39m\u001b[38;5;124m\\\u001b[39m\u001b[38;5;124mb\u001b[39m\u001b[38;5;124m'\u001b[39m\n\u001b[1;32m----> 4\u001b[0m x\u001b[38;5;241m=\u001b[39mre\u001b[38;5;241m.\u001b[39mfindall(pattern,\u001b[38;5;124mr\u001b[39m\u001b[38;5;124m'\u001b[39m\u001b[38;5;124m\\\u001b[39m\u001b[38;5;124m1\u001b[39m\u001b[38;5;124m'\u001b[39m,Sample)\n\u001b[0;32m      5\u001b[0m \u001b[38;5;28mprint\u001b[39m(x)\n",
      "File \u001b[1;32m~\\anaconda3\\Lib\\re\\__init__.py:217\u001b[0m, in \u001b[0;36mfindall\u001b[1;34m(pattern, string, flags)\u001b[0m\n\u001b[0;32m    209\u001b[0m \u001b[38;5;28;01mdef\u001b[39;00m \u001b[38;5;21mfindall\u001b[39m(pattern, string, flags\u001b[38;5;241m=\u001b[39m\u001b[38;5;241m0\u001b[39m):\n\u001b[0;32m    210\u001b[0m \u001b[38;5;250m    \u001b[39m\u001b[38;5;124;03m\"\"\"Return a list of all non-overlapping matches in the string.\u001b[39;00m\n\u001b[0;32m    211\u001b[0m \n\u001b[0;32m    212\u001b[0m \u001b[38;5;124;03m    If one or more capturing groups are present in the pattern, return\u001b[39;00m\n\u001b[1;32m   (...)\u001b[0m\n\u001b[0;32m    215\u001b[0m \n\u001b[0;32m    216\u001b[0m \u001b[38;5;124;03m    Empty matches are included in the result.\"\"\"\u001b[39;00m\n\u001b[1;32m--> 217\u001b[0m     \u001b[38;5;28;01mreturn\u001b[39;00m _compile(pattern, flags)\u001b[38;5;241m.\u001b[39mfindall(string)\n",
      "File \u001b[1;32m~\\anaconda3\\Lib\\re\\__init__.py:300\u001b[0m, in \u001b[0;36m_compile\u001b[1;34m(pattern, flags)\u001b[0m\n\u001b[0;32m    298\u001b[0m \u001b[38;5;28;01mif\u001b[39;00m \u001b[38;5;129;01mnot\u001b[39;00m _compiler\u001b[38;5;241m.\u001b[39misstring(pattern):\n\u001b[0;32m    299\u001b[0m     \u001b[38;5;28;01mraise\u001b[39;00m \u001b[38;5;167;01mTypeError\u001b[39;00m(\u001b[38;5;124m\"\u001b[39m\u001b[38;5;124mfirst argument must be string or compiled pattern\u001b[39m\u001b[38;5;124m\"\u001b[39m)\n\u001b[1;32m--> 300\u001b[0m \u001b[38;5;28;01mif\u001b[39;00m flags \u001b[38;5;241m&\u001b[39m T:\n\u001b[0;32m    301\u001b[0m     \u001b[38;5;28;01mimport\u001b[39;00m \u001b[38;5;21;01mwarnings\u001b[39;00m\n\u001b[0;32m    302\u001b[0m     warnings\u001b[38;5;241m.\u001b[39mwarn(\u001b[38;5;124m\"\u001b[39m\u001b[38;5;124mThe re.TEMPLATE/re.T flag is deprecated \u001b[39m\u001b[38;5;124m\"\u001b[39m\n\u001b[0;32m    303\u001b[0m             \u001b[38;5;124m\"\u001b[39m\u001b[38;5;124mas it is an undocumented flag \u001b[39m\u001b[38;5;124m\"\u001b[39m\n\u001b[0;32m    304\u001b[0m             \u001b[38;5;124m\"\u001b[39m\u001b[38;5;124mwithout an obvious purpose. \u001b[39m\u001b[38;5;124m\"\u001b[39m\n\u001b[0;32m    305\u001b[0m             \u001b[38;5;124m\"\u001b[39m\u001b[38;5;124mDon\u001b[39m\u001b[38;5;124m'\u001b[39m\u001b[38;5;124mt use it.\u001b[39m\u001b[38;5;124m\"\u001b[39m,\n\u001b[0;32m    306\u001b[0m             \u001b[38;5;167;01mDeprecationWarning\u001b[39;00m)\n",
      "\u001b[1;31mTypeError\u001b[0m: unsupported operand type(s) for &: 'str' and 'RegexFlag'"
     ]
    }
   ],
   "source": [
    "import re\n",
    "Sample= \"Hello hello world world hello\"\n",
    "pattern=r'\\b(\\w+)\\s(\\1)\\b'\n",
    "x=re.findall(pattern,r'\\1',Sample)\n",
    "print(x)"
   ]
  },
  {
   "cell_type": "code",
   "execution_count": 90,
   "id": "02cd2387-31fa-4ac5-9dab-bbe2e79bb6ee",
   "metadata": {},
   "outputs": [
    {
     "name": "stdout",
     "output_type": "stream",
     "text": [
      "['xyz@domain.com', 'xyz.abc@sdomain.domain.com', 'hr@fliprobo.com']\n"
     ]
    }
   ],
   "source": [
    "import re\n",
    "Sample=\"Hello my name is Data Sccience and my email address is xyz@domain.com and alterate email address is xyz.abc@sdomain.domain.com. Please contact us at hr@fliprobo.com for furthur information\"\n",
    "pattern=r'[a-z]+@[a-z]+.com|x[a-z]+.[a-z]+.@[a-z]+.[a-z]+.com'\n",
    "x=re.findall(pattern,Sample)\n",
    "print(x)"
   ]
  },
  {
   "cell_type": "code",
   "execution_count": null,
   "id": "82d2eea7-da29-4bc3-99db-8a0325403d5f",
   "metadata": {},
   "outputs": [],
   "source": []
  },
  {
   "cell_type": "code",
   "execution_count": 14,
   "id": "62767d98-67c8-4248-8cc3-d2b545897b7b",
   "metadata": {},
   "outputs": [
    {
     "name": "stdout",
     "output_type": "stream",
     "text": [
      "[5, 2, 3, 4, 1]\n"
     ]
    }
   ],
   "source": [
    "a=[1,2,3,4,5]\n",
    "temp=a[0]\n",
    "a[0]=a[-1]\n",
    "a[-1]=temp\n",
    "print(a)"
   ]
  },
  {
   "cell_type": "code",
   "execution_count": null,
   "id": "ee95f94a-5f8a-4f40-bf87-fb5cd4396918",
   "metadata": {},
   "outputs": [],
   "source": []
  },
  {
   "cell_type": "code",
   "execution_count": 60,
   "id": "91ec89f7-5089-4692-a7ff-fbc12d81e2df",
   "metadata": {},
   "outputs": [
    {
     "name": "stdout",
     "output_type": "stream",
     "text": [
      "[14]\n"
     ]
    }
   ],
   "source": [
    "import random\n",
    "a=[]\n",
    "i=random.randint(1,20)\n",
    "a.append(i)\n",
    "print(a)\n",
    "    \n"
   ]
  },
  {
   "cell_type": "code",
   "execution_count": 163,
   "id": "dd8c5f76-ec4f-4bf5-8782-fbec43c5f4a7",
   "metadata": {},
   "outputs": [
    {
     "name": "stdout",
     "output_type": "stream",
     "text": [
      "11111\n",
      "3333\n",
      "555\n",
      "77\n",
      "9\n"
     ]
    }
   ],
   "source": [
    "n=6\n",
    "for i in range(1,n):\n",
    "    for j in range(i,n):\n",
    "        print(i*2-1,end=\"\")\n",
    "    print()"
   ]
  },
  {
   "cell_type": "code",
   "execution_count": null,
   "id": "7ba9ed1e-6584-403b-807a-759281da3a5d",
   "metadata": {},
   "outputs": [],
   "source": []
  },
  {
   "cell_type": "code",
   "execution_count": 5,
   "id": "1745acd2-93fe-4cd8-888e-facea3196403",
   "metadata": {},
   "outputs": [
    {
     "name": "stdout",
     "output_type": "stream",
     "text": [
      "  $ $ $ $ $ $ $ $ $ \n",
      "    $ $ $ $ $ $ $ \n",
      "      $ $ $ $ $ \n",
      "        $ $ $ \n",
      "          $ \n"
     ]
    }
   ],
   "source": [
    "for i in range(1,6):\n",
    "    for j in range(0,i):\n",
    "        print(\" \",end=\" \")\n",
    "    for j in range(i+1,6):\n",
    "        print(\"$\",end=\" \")\n",
    "    for j in range(i,6):\n",
    "        print(\"$\",end=\" \")\n",
    "    print()\n",
    "    "
   ]
  },
  {
   "cell_type": "code",
   "execution_count": 7,
   "id": "3a52787e-08e5-47fc-af50-0917073f5e03",
   "metadata": {},
   "outputs": [
    {
     "name": "stdout",
     "output_type": "stream",
     "text": [
      "A \n",
      "B C \n",
      "D E F \n",
      "G H I J \n",
      "K L M N O \n"
     ]
    }
   ],
   "source": [
    "n=65\n",
    "for i in range(1,6):\n",
    "    for j in range(i):\n",
    "        ch=chr(n)\n",
    "        print(ch,end=\" \")\n",
    "        n=n+1\n",
    "    print()"
   ]
  },
  {
   "cell_type": "code",
   "execution_count": null,
   "id": "fffc03ea-1302-4abf-b3e2-1ffb6ae09fdd",
   "metadata": {},
   "outputs": [],
   "source": []
  },
  {
   "cell_type": "code",
   "execution_count": 1,
   "id": "2e2f168a-bffc-4f38-9347-de8cb48197c9",
   "metadata": {},
   "outputs": [
    {
     "name": "stdout",
     "output_type": "stream",
     "text": [
      "  % % % % % % % % % \n",
      "    % % % % % % % \n",
      "      % % % % % \n",
      "        % % % \n",
      "          % \n"
     ]
    }
   ],
   "source": [
    "n=5\n",
    "for i in range(n):\n",
    "    for j in range(i+1):\n",
    "        print(\" \",end=' ')\n",
    "    for j in range(i,n):\n",
    "        print(\"%\",end=' ')\n",
    "    for j in range(i+1,n):\n",
    "        print(\"%\",end=' ')\n",
    "    print()"
   ]
  },
  {
   "cell_type": "code",
   "execution_count": 33,
   "id": "55d26153-fe39-4e5b-a51c-9ee59e5fe6a4",
   "metadata": {},
   "outputs": [],
   "source": [
    "class cal():\n",
    "    x=10\n",
    "    def sum(self,a,b):\n",
    "        return a+b"
   ]
  },
  {
   "cell_type": "code",
   "execution_count": 35,
   "id": "6a910372-7432-45a3-82aa-e3bda0df8942",
   "metadata": {},
   "outputs": [],
   "source": [
    "x=cal()"
   ]
  },
  {
   "cell_type": "code",
   "execution_count": 37,
   "id": "7f6fba8f-176a-47f6-830a-49847d947874",
   "metadata": {},
   "outputs": [
    {
     "data": {
      "text/plain": [
       "3"
      ]
     },
     "execution_count": 37,
     "metadata": {},
     "output_type": "execute_result"
    }
   ],
   "source": [
    "x.sum(1,2)"
   ]
  },
  {
   "cell_type": "code",
   "execution_count": 65,
   "id": "a2ab6135-8c46-432e-99ae-6adac0b3d509",
   "metadata": {},
   "outputs": [
    {
     "name": "stdout",
     "output_type": "stream",
     "text": [
      "[(1, 1), (2, 4), (3, 9), (4, 16)]\n"
     ]
    }
   ],
   "source": [
    "l=[]\n",
    "n=range(1,5)\n",
    "for i in n:\n",
    "    l.append((i,i**2))\n",
    "print(l)\n",
    "    "
   ]
  },
  {
   "cell_type": "code",
   "execution_count": null,
   "id": "03f67aad-1c9a-4ebc-ba75-897212acd3ce",
   "metadata": {},
   "outputs": [],
   "source": []
  },
  {
   "cell_type": "code",
   "execution_count": 81,
   "id": "0c3d9c19-ec89-4432-a043-a4ccda992c6d",
   "metadata": {
    "scrolled": true
   },
   "outputs": [
    {
     "ename": "ValueError",
     "evalue": "list.remove(x): x not in list",
     "output_type": "error",
     "traceback": [
      "\u001b[1;31m---------------------------------------------------------------------------\u001b[0m",
      "\u001b[1;31mValueError\u001b[0m                                Traceback (most recent call last)",
      "Cell \u001b[1;32mIn[81], line 2\u001b[0m\n\u001b[0;32m      1\u001b[0m a\u001b[38;5;241m=\u001b[39m[(\u001b[38;5;241m1\u001b[39m, \u001b[38;5;241m1\u001b[39m), (\u001b[38;5;241m2\u001b[39m, \u001b[38;5;241m4\u001b[39m), (\u001b[38;5;241m3\u001b[39m, \u001b[38;5;241m9\u001b[39m), (\u001b[38;5;241m4\u001b[39m, \u001b[38;5;241m16\u001b[39m),\u001b[38;5;241m4\u001b[39m,\u001b[38;5;124m\"\u001b[39m\u001b[38;5;124masdd\u001b[39m\u001b[38;5;124m\"\u001b[39m]\n\u001b[1;32m----> 2\u001b[0m a\u001b[38;5;241m.\u001b[39mremove(\u001b[38;5;28mtuple\u001b[39m)\n\u001b[0;32m      3\u001b[0m \u001b[38;5;28mprint\u001b[39m(a)\n",
      "\u001b[1;31mValueError\u001b[0m: list.remove(x): x not in list"
     ]
    }
   ],
   "source": [
    "a=[(1, 1), (2, 4), (3, 9), (4, 16),4,\"asdd\"]\n",
    "a.remove(tuple)\n",
    "print(a)"
   ]
  },
  {
   "cell_type": "code",
   "execution_count": 99,
   "id": "cac016bb-6100-4f7d-8e4d-f2cc130e48e5",
   "metadata": {},
   "outputs": [
    {
     "name": "stdout",
     "output_type": "stream",
     "text": [
      "12\n"
     ]
    }
   ],
   "source": [
    "a = {\n",
    "  \"brand\": 2,\n",
    "  \"model\": 3,\n",
    "  \"year\": 2\n",
    "}\n",
    "p=1\n",
    "for n in a.values():\n",
    "    p*=n\n",
    "print(p)"
   ]
  },
  {
   "cell_type": "code",
   "execution_count": 103,
   "id": "1e4d2be4-5495-4f86-baac-6217bb7399c1",
   "metadata": {},
   "outputs": [
    {
     "name": "stdout",
     "output_type": "stream",
     "text": [
      "{'brand': 2, 'model': 3}\n"
     ]
    }
   ],
   "source": [
    "a = {\n",
    "  \"brand\": 2,\n",
    "  \"model\": 3,\n",
    "  \"year\": 2\n",
    "}\n",
    "a.pop(\"year\")\n",
    "print(a)"
   ]
  },
  {
   "cell_type": "code",
   "execution_count": 107,
   "id": "044c167c-6d21-42f4-8fdd-4954400d7f29",
   "metadata": {},
   "outputs": [
    {
     "name": "stdout",
     "output_type": "stream",
     "text": [
      "[(1, 1), (1, 1), (2, 4), (3, 17), (4, 16)]\n"
     ]
    }
   ],
   "source": [
    "a=[(1, 1), (2, 4), (3, 17), (4, 16),(1,1)]\n",
    "a.sort()\n",
    "print(a)"
   ]
  },
  {
   "cell_type": "code",
   "execution_count": 1,
   "id": "7e6ed10e-81cf-4089-a9e7-fec0d8232ec4",
   "metadata": {},
   "outputs": [],
   "source": [
    "class cal():\n",
    "    name='naveen'\n",
    "    def __init__(self,a,b):\n",
    "        self.a=a\n",
    "        self.b=b\n",
    "    def sum(self):\n",
    "        return self.a*self.b\n",
    "\n"
   ]
  },
  {
   "cell_type": "code",
   "execution_count": 3,
   "id": "ed262aa2-c4fb-4e5d-b0ac-d801451c9533",
   "metadata": {},
   "outputs": [],
   "source": [
    "c=cal(10,10)\n"
   ]
  },
  {
   "cell_type": "code",
   "execution_count": 9,
   "id": "b2965680-e866-4212-a114-3923999dc035",
   "metadata": {},
   "outputs": [
    {
     "data": {
      "text/plain": [
       "100"
      ]
     },
     "execution_count": 9,
     "metadata": {},
     "output_type": "execute_result"
    }
   ],
   "source": [
    "c.sum()"
   ]
  },
  {
   "cell_type": "code",
   "execution_count": 50,
   "id": "bab97759-7a6f-4dcb-bb20-e677446a6bc9",
   "metadata": {},
   "outputs": [
    {
     "name": "stdout",
     "output_type": "stream",
     "text": [
      "2\n",
      "3\n"
     ]
    }
   ],
   "source": [
    "a='a12a1'\n",
    "count=0\n",
    "count1=0\n",
    "for i in a:\n",
    "    try:\n",
    "        c=int(i)\n",
    "    except:\n",
    "        count+=1\n",
    "    else:\n",
    "        count1+=1\n",
    "print(count)\n",
    "print(count1)"
   ]
  },
  {
   "cell_type": "code",
   "execution_count": null,
   "id": "0cf551e6-93a2-4677-960b-a52b9a414adc",
   "metadata": {},
   "outputs": [],
   "source": []
  },
  {
   "cell_type": "code",
   "execution_count": 62,
   "id": "7f039f5d-7ea7-444e-8cef-f7f14886d799",
   "metadata": {},
   "outputs": [
    {
     "name": "stdout",
     "output_type": "stream",
     "text": [
      "2\n",
      "3\n",
      "success\n"
     ]
    }
   ],
   "source": [
    "a=[1,2,3,4,5]\n",
    "try:\n",
    "    print(a[1])\n",
    "    print(a[2])\n",
    "except:\n",
    "    print(\"out of Range\")\n",
    "else:\n",
    "    print(\"success\")"
   ]
  },
  {
   "cell_type": "code",
   "execution_count": 15,
   "id": "9e09a1ab-c5b5-4b58-bd63-1b83e7df1b5c",
   "metadata": {},
   "outputs": [
    {
     "name": "stdin",
     "output_type": "stream",
     "text": [
      "Enter first string: nav\n",
      "Enter second string: aru\n"
     ]
    },
    {
     "name": "stdout",
     "output_type": "stream",
     "text": [
      "The letters are:\n",
      "v\n",
      "n\n"
     ]
    }
   ],
   "source": [
    "s1=input(\"Enter first string:\")\n",
    "s2=input(\"Enter second string:\")\n",
    "a=list(set(s1)-set(s2))\n",
    "print(\"The letters are:\")\n",
    "for i in a:\n",
    "    print(i)\n",
    "\n"
   ]
  },
  {
   "cell_type": "code",
   "execution_count": 27,
   "id": "c865d07a-1145-4f63-ad2b-61368dbabf2e",
   "metadata": {},
   "outputs": [
    {
     "name": "stdout",
     "output_type": "stream",
     "text": [
      "7\n"
     ]
    }
   ],
   "source": [
    "\n",
    "a='a','e','i','o','u','A','E','I','O','U'\n",
    "s=\"I am a little boy\"\n",
    "count=0\n",
    "for char in s:\n",
    "    if char in a:\n",
    "        count=count+1\n",
    "print(count)"
   ]
  },
  {
   "cell_type": "code",
   "execution_count": 53,
   "id": "e06dab47-9057-43ca-9ebc-73957adf4943",
   "metadata": {},
   "outputs": [
    {
     "name": "stdout",
     "output_type": "stream",
     "text": [
      "upper: 3\n",
      "lower: 10\n"
     ]
    }
   ],
   "source": [
    "s=\"I AM a little boy\"\n",
    "a_count=0\n",
    "b_count=0\n",
    "for char in s:\n",
    "    if char.isupper():\n",
    "        a_count+=1\n",
    "    if char.islower():\n",
    "        b_count+=1\n",
    "print(\"upper:\",a_count)\n",
    "print(\"lower:\",b_count)"
   ]
  },
  {
   "cell_type": "code",
   "execution_count": 61,
   "id": "3bde761b-699a-4509-bc56-c9007e7c08fa",
   "metadata": {},
   "outputs": [
    {
     "name": "stdout",
     "output_type": "stream",
     "text": [
      "letters: 13\n",
      "digit: 2\n"
     ]
    }
   ],
   "source": [
    "s=\"I AM3 a little1 boy\"\n",
    "a_count=0\n",
    "b_count=0\n",
    "for char in s:\n",
    "    if char.isalpha():\n",
    "        a_count+=1\n",
    "    if char.isdigit():\n",
    "        b_count+=1\n",
    "print(\"letters:\",a_count)\n",
    "print(\"digit:\",b_count)"
   ]
  },
  {
   "cell_type": "code",
   "execution_count": 71,
   "id": "4caf9ded-5c33-453b-9984-b92384c0cd63",
   "metadata": {
    "scrolled": true
   },
   "outputs": [
    {
     "name": "stdout",
     "output_type": "stream",
     "text": [
      "e\n",
      "n\n",
      "v\n",
      "j\n",
      "r\n"
     ]
    }
   ],
   "source": [
    "a=\"naveen\"\n",
    "b=\"raja\"\n",
    "c=list(set(a)^set(b))\n",
    "for i in c:\n",
    "    print(i)"
   ]
  },
  {
   "cell_type": "code",
   "execution_count": 93,
   "id": "4d0ac3c5-02f0-42ba-86ee-6ea96c549525",
   "metadata": {},
   "outputs": [
    {
     "ename": "TypeError",
     "evalue": "'str' object does not support item assignment",
     "output_type": "error",
     "traceback": [
      "\u001b[1;31m---------------------------------------------------------------------------\u001b[0m",
      "\u001b[1;31mTypeError\u001b[0m                                 Traceback (most recent call last)",
      "Cell \u001b[1;32mIn[93], line 3\u001b[0m\n\u001b[0;32m      1\u001b[0m s\u001b[38;5;241m=\u001b[39m\u001b[38;5;124m\"\u001b[39m\u001b[38;5;124mcricket\u001b[39m\u001b[38;5;124m\"\u001b[39m\n\u001b[0;32m      2\u001b[0m temp\u001b[38;5;241m=\u001b[39ms[\u001b[38;5;241m0\u001b[39m]\n\u001b[1;32m----> 3\u001b[0m s[\u001b[38;5;241m0\u001b[39m]\u001b[38;5;241m=\u001b[39ms[\u001b[38;5;241m-\u001b[39m\u001b[38;5;241m1\u001b[39m]\n\u001b[0;32m      4\u001b[0m s[\u001b[38;5;241m-\u001b[39m\u001b[38;5;241m1\u001b[39m]\u001b[38;5;241m=\u001b[39mtemp\n\u001b[0;32m      5\u001b[0m \u001b[38;5;28mprint\u001b[39m(\u001b[38;5;124m'\u001b[39m\u001b[38;5;124m'\u001b[39m,s\u001b[38;5;241m.\u001b[39mjoin())\n",
      "\u001b[1;31mTypeError\u001b[0m: 'str' object does not support item assignment"
     ]
    }
   ],
   "source": [
    "s=\"cricket\"\n",
    "temp=s[0]\n",
    "s[0]=s[-1]\n",
    "s[-1]=temp\n",
    "print('',s.join())"
   ]
  },
  {
   "cell_type": "code",
   "execution_count": 79,
   "id": "b43cdd90-8bff-49a9-8625-015116f28fa5",
   "metadata": {},
   "outputs": [
    {
     "name": "stdout",
     "output_type": "stream",
     "text": [
      "['I', ' ', 'A', 'M', ' ', 'a', ' ', 'l', 'i', 't', 't', 'l', 'e', ' ', 'b', 'o', 'y', ' ', 'a', 'n', 'd', ' ', 'i', ' ', 'l', 'o', 'v', 'e', ' ', 'c', 'r', 'i', 'c', 'k', 'e', 't']\n"
     ]
    }
   ],
   "source": []
  },
  {
   "cell_type": "code",
   "execution_count": 105,
   "id": "2d023cc5-eaea-472b-ace8-c21599e44519",
   "metadata": {},
   "outputs": [
    {
     "name": "stdout",
     "output_type": "stream",
     "text": [
      "naveen\n"
     ]
    }
   ],
   "source": [
    "a=\"lzptops\"\n",
    "b=\"naveen\"\n",
    "a_count=0\n",
    "b_count=0\n",
    "for i in a:\n",
    "      a_count=a_count+1\n",
    "for j in b:\n",
    "      b_count=b_count+1\n",
    "if(a_count<b_count):\n",
    "      print(a)\n",
    "else:\n",
    "      print(b)"
   ]
  },
  {
   "cell_type": "code",
   "execution_count": 21,
   "id": "2b42e02a-6eb3-48b3-b9d8-65ca237ae0db",
   "metadata": {},
   "outputs": [
    {
     "name": "stdin",
     "output_type": "stream",
     "text": [
      "Enter: uio\n",
      "Enter: ersc\n",
      "Enter: dc\n"
     ]
    },
    {
     "name": "stdout",
     "output_type": "stream",
     "text": [
      "largest: ersc\n"
     ]
    }
   ],
   "source": [
    "a=input(\"Enter:\")\n",
    "b=input(\"Enter:\")\n",
    "c=input(\"Enter:\")\n",
    "if len(a)>len(b) and len(a)>len(c):\n",
    "    print(\"largest:\",a)\n",
    "elif len(b)>len(a) and len(b)>len(c):\n",
    "    print(\"largest:\",b)\n",
    "else:\n",
    "    print(\"largest:\",c)\n"
   ]
  },
  {
   "cell_type": "code",
   "execution_count": 19,
   "id": "8110e61b-ce81-4a67-a829-3ca555dd1801",
   "metadata": {},
   "outputs": [
    {
     "name": "stdout",
     "output_type": "stream",
     "text": [
      "aicbihc \n"
     ]
    }
   ],
   "source": [
    "a=\"chibcia\"\n",
    "b=\" \"\n",
    "for ch in a:\n",
    "    b=ch+b\n",
    "print(b)"
   ]
  },
  {
   "cell_type": "code",
   "execution_count": 15,
   "id": "19b93c55-7344-48b5-b7e5-45b21a9a50dc",
   "metadata": {},
   "outputs": [
    {
     "name": "stdout",
     "output_type": "stream",
     "text": [
      "4\n",
      "7\n"
     ]
    }
   ],
   "source": [
    "p=7\n",
    "q=4\n",
    "p,q=q,p\n",
    "print(p)\n",
    "print(q)"
   ]
  },
  {
   "cell_type": "code",
   "execution_count": 23,
   "id": "5892aeed-03b9-4564-b55f-c935f585cf25",
   "metadata": {},
   "outputs": [
    {
     "name": "stdout",
     "output_type": "stream",
     "text": [
      "python-to-welcome\n"
     ]
    }
   ],
   "source": [
    "str1=('welcome-to-python')\n",
    "res=str1.split('-')\n",
    "var=sorted(res)\n",
    "str2='-'.join(var)\n",
    "print(str2)"
   ]
  },
  {
   "cell_type": "code",
   "execution_count": null,
   "id": "5ac0a6d1-09fd-4cf1-8233-c43594998072",
   "metadata": {},
   "outputs": [],
   "source": []
  }
 ],
 "metadata": {
  "kernelspec": {
   "display_name": "Python 3 (ipykernel)",
   "language": "python",
   "name": "python3"
  },
  "language_info": {
   "codemirror_mode": {
    "name": "ipython",
    "version": 3
   },
   "file_extension": ".py",
   "mimetype": "text/x-python",
   "name": "python",
   "nbconvert_exporter": "python",
   "pygments_lexer": "ipython3",
   "version": "3.12.4"
  }
 },
 "nbformat": 4,
 "nbformat_minor": 5
}
